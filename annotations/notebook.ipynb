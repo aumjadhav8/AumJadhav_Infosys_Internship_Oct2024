{
 "cells": [
  {
   "cell_type": "code",
   "execution_count": null,
   "metadata": {},
   "outputs": [],
   "source": [
    "import cv2\n",
    "import os\n",
    "\n",
    "def draw_bbox(image_dir, label_dir, output_dir, img_ext=\".jpg\", label_ext=\".txt\"):\n",
    "    if not os.path.exists(output_dir):\n",
    "        os.makedirs(output_dir)\n",
    "\n",
    "    for label_file in os.listdir(label_dir):\n",
    "        if label_file.endswith(label_ext):\n",
    "            img_file = label_file.replace(label_ext, img_ext)\n",
    "            img_path = os.path.join(image_dir, img_file)\n",
    "            label_path = os.path.join(label_dir, label_file)\n",
    "            \n",
    "            img = cv2.imread(img_path)\n",
    "            if img is None:\n",
    "                print(f\"Image not found: {img_path}\")\n",
    "                continue\n",
    "\n",
    "            height, width, _ = img.shape\n",
    "\n",
    "            with open(label_path, \"r\") as f:\n",
    "                for line in f.readlines():\n",
    "                    values = line.strip().split()\n",
    "                    class_id = int(values[0])\n",
    "                    x_center, y_center, bbox_width, bbox_height = map(float, values[1:])\n",
    "\n",
    "                    x1 = int((x_center - bbox_width / 2) * width)\n",
    "                    y1 = int((y_center - bbox_height / 2) * height)\n",
    "                    x2 = int((x_center + bbox_width / 2) * width)\n",
    "                    y2 = int((y_center + bbox_height / 2) * height)\n",
    "\n",
    "                    color = (0, 255, 0)\n",
    "                    cv2.rectangle(img, (x1, y1), (x2, y2), color, 2)\n",
    "\n",
    "                    label = f\"Class {class_id}\"\n",
    "                    cv2.putText(img, label, (x1, y1 - 10), cv2.FONT_HERSHEY_SIMPLEX, 0.9, color, 2)\n",
    "\n",
    "            output_img_path = os.path.join(output_dir, img_file)\n",
    "            cv2.imwrite(output_img_path, img)\n",
    "\n",
    "            print(f\"Processed: {output_img_path}\")\n",
    "\n",
    "image_dir = 'path/to/images'\n",
    "label_dir = 'path/to/labels'\n",
    "output_dir = 'path/to/output'\n",
    "\n",
    "draw_bbox(image_dir, label_dir, output_dir)"
   ]
  }
 ],
 "metadata": {
  "kernelspec": {
   "display_name": "Python 3",
   "language": "python",
   "name": "python3"
  },
  "language_info": {
   "name": "python",
   "version": "3.11.9"
  }
 },
 "nbformat": 4,
 "nbformat_minor": 2
}
